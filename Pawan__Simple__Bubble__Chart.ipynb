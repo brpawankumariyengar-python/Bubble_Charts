{
 "cells": [
  {
   "cell_type": "markdown",
   "id": "967934b5",
   "metadata": {},
   "source": [
    "# Simple Bubble Chart"
   ]
  },
  {
   "cell_type": "markdown",
   "id": "b05d1e8b",
   "metadata": {},
   "source": [
    "## This is an example of a very simple Bubble Chart"
   ]
  },
  {
   "cell_type": "code",
   "execution_count": 1,
   "id": "62857a5f",
   "metadata": {},
   "outputs": [],
   "source": [
    "import matplotlib.pyplot as Pawan_plt #This is used to plot the graph"
   ]
  },
  {
   "cell_type": "code",
   "execution_count": 2,
   "id": "6559c2e9",
   "metadata": {},
   "outputs": [],
   "source": [
    "import pandas as Pawan_pd #This reads the csv"
   ]
  },
  {
   "cell_type": "code",
   "execution_count": 3,
   "id": "a675f045",
   "metadata": {},
   "outputs": [
    {
     "data": {
      "text/html": [
       "<div>\n",
       "<style scoped>\n",
       "    .dataframe tbody tr th:only-of-type {\n",
       "        vertical-align: middle;\n",
       "    }\n",
       "\n",
       "    .dataframe tbody tr th {\n",
       "        vertical-align: top;\n",
       "    }\n",
       "\n",
       "    .dataframe thead th {\n",
       "        text-align: right;\n",
       "    }\n",
       "</style>\n",
       "<table border=\"1\" class=\"dataframe\">\n",
       "  <thead>\n",
       "    <tr style=\"text-align: right;\">\n",
       "      <th></th>\n",
       "      <th>States in India</th>\n",
       "      <th>Total</th>\n",
       "      <th>Percentage of National Total</th>\n",
       "      <th>Percentage_Renewable</th>\n",
       "    </tr>\n",
       "  </thead>\n",
       "  <tbody>\n",
       "    <tr>\n",
       "      <th>0</th>\n",
       "      <td>Delhi</td>\n",
       "      <td>2.44</td>\n",
       "      <td>0.65</td>\n",
       "      <td>9.38</td>\n",
       "    </tr>\n",
       "    <tr>\n",
       "      <th>1</th>\n",
       "      <td>Karnataka</td>\n",
       "      <td>29.35</td>\n",
       "      <td>7.84</td>\n",
       "      <td>64.61</td>\n",
       "    </tr>\n",
       "    <tr>\n",
       "      <th>2</th>\n",
       "      <td>Kerala</td>\n",
       "      <td>2.98</td>\n",
       "      <td>0.80</td>\n",
       "      <td>76.76</td>\n",
       "    </tr>\n",
       "    <tr>\n",
       "      <th>3</th>\n",
       "      <td>Uttarakhand</td>\n",
       "      <td>4.87</td>\n",
       "      <td>1.30</td>\n",
       "      <td>90.76</td>\n",
       "    </tr>\n",
       "    <tr>\n",
       "      <th>4</th>\n",
       "      <td>West Bengal</td>\n",
       "      <td>16.19</td>\n",
       "      <td>4.32</td>\n",
       "      <td>11.80</td>\n",
       "    </tr>\n",
       "    <tr>\n",
       "      <th>5</th>\n",
       "      <td>Rajasthan</td>\n",
       "      <td>22.27</td>\n",
       "      <td>5.96</td>\n",
       "      <td>46.01</td>\n",
       "    </tr>\n",
       "    <tr>\n",
       "      <th>6</th>\n",
       "      <td>Tamil Nadu</td>\n",
       "      <td>33.35</td>\n",
       "      <td>8.91</td>\n",
       "      <td>51.01</td>\n",
       "    </tr>\n",
       "    <tr>\n",
       "      <th>7</th>\n",
       "      <td>Madhya Pradesh</td>\n",
       "      <td>28.57</td>\n",
       "      <td>7.63</td>\n",
       "      <td>25.96</td>\n",
       "    </tr>\n",
       "    <tr>\n",
       "      <th>8</th>\n",
       "      <td>Maharashtra</td>\n",
       "      <td>42.49</td>\n",
       "      <td>11.36</td>\n",
       "      <td>30.40</td>\n",
       "    </tr>\n",
       "    <tr>\n",
       "      <th>9</th>\n",
       "      <td>Punjab</td>\n",
       "      <td>8.38</td>\n",
       "      <td>2.24</td>\n",
       "      <td>32.23</td>\n",
       "    </tr>\n",
       "  </tbody>\n",
       "</table>\n",
       "</div>"
      ],
      "text/plain": [
       "  States in India  Total  Percentage of National Total  Percentage_Renewable\n",
       "0           Delhi   2.44                          0.65                  9.38\n",
       "1       Karnataka  29.35                          7.84                 64.61\n",
       "2          Kerala   2.98                          0.80                 76.76\n",
       "3     Uttarakhand   4.87                          1.30                 90.76\n",
       "4     West Bengal  16.19                          4.32                 11.80\n",
       "5       Rajasthan  22.27                          5.96                 46.01\n",
       "6      Tamil Nadu  33.35                          8.91                 51.01\n",
       "7  Madhya Pradesh  28.57                          7.63                 25.96\n",
       "8     Maharashtra  42.49                         11.36                 30.40\n",
       "9          Punjab   8.38                          2.24                 32.23"
      ]
     },
     "execution_count": 3,
     "metadata": {},
     "output_type": "execute_result"
    }
   ],
   "source": [
    "Pawan_Dataframe = Pawan_pd.read_csv('/Users/brpawankumar/Desktop/Power_States.csv')\n",
    "Pawan_Dataframe"
   ]
  },
  {
   "cell_type": "code",
   "execution_count": 4,
   "id": "ca8ea885",
   "metadata": {},
   "outputs": [],
   "source": [
    "State = Pawan_Dataframe['States in India']\n",
    "Total_Energy = Pawan_Dataframe['Total']\n",
    "Percentage_National_Total = Pawan_Dataframe['Percentage of National Total']\n",
    "Percentage_Renewable = Pawan_Dataframe['Percentage_Renewable']"
   ]
  },
  {
   "cell_type": "code",
   "execution_count": 5,
   "id": "e58eb342",
   "metadata": {},
   "outputs": [],
   "source": [
    "Pawan_Color_List = ('green','red','blue','black','cyan','grey','orange','purple','pink','brown') # List of colors"
   ]
  },
  {
   "cell_type": "code",
   "execution_count": 24,
   "id": "43a61c91",
   "metadata": {},
   "outputs": [
    {
     "name": "stdout",
     "output_type": "stream",
     "text": [
      "Delhi 2.44 0.65 9.38 green\n",
      "Karnataka 29.35 7.84 64.61 red\n",
      "Kerala 2.98 0.8 76.76 blue\n",
      "Uttarakhand 4.87 1.3 90.76 black\n",
      "West Bengal 16.19 4.32 11.8 cyan\n",
      "Rajasthan 22.27 5.96 46.01 grey\n",
      "Tamil Nadu 33.35 8.91 51.01 orange\n",
      "Madhya Pradesh 28.57 7.63 25.96 purple\n",
      "Maharashtra 42.49 11.36 30.4 pink\n",
      "Punjab 8.38 2.24 32.23 brown\n"
     ]
    },
    {
     "data": {
      "image/png": "[encoded data removed]",
      "text/plain": [
       "<Figure size 1440x720 with 1 Axes>"
      ]
     },
     "metadata": {
      "needs_background": "light"
     },
     "output_type": "display_data"
    }
   ],
   "source": [
    "Pawan_plt.figure(figsize=(20, 10))\n",
    "Pawan_plt.title('Electricity Generation Details of States in India')\n",
    "Pawan_plt.xlabel('Total Energy Production of the state')\n",
    "Pawan_plt.ylabel('Percentage Energy generation of the state')\n",
    "Pawan_plt.scatter(x = Total_Energy, y = Percentage_National_Total, s = (Percentage_Renewable * 20) , alpha = 0.5, c = Pawan_Color_List)\n",
    "for i, txt in enumerate(State):\n",
    "    Pawan_plt.annotate(txt, (Total_Energy[i], Percentage_National_Total[i]))\n",
    "    print(txt, Total_Energy[i], Percentage_National_Total[i], Percentage_Renewable[i], Pawan_Color_List[i])"
   ]
  },
  {
   "cell_type": "code",
   "execution_count": null,
   "id": "c27ca20f",
   "metadata": {},
   "outputs": [],
   "source": []
  }
 ],
 "metadata": {
  "kernelspec": {
   "display_name": "Python 3",
   "language": "python",
   "name": "python3"
  },
  "language_info": {
   "codemirror_mode": {
    "name": "ipython",
    "version": 3
   },
   "file_extension": ".py",
   "mimetype": "text/x-python",
   "name": "python",
   "nbconvert_exporter": "python",
   "pygments_lexer": "ipython3",
   "version": "3.9.1"
  }
 },
 "nbformat": 4,
 "nbformat_minor": 5
}
